{
  "nbformat": 4,
  "nbformat_minor": 0,
  "metadata": {
    "colab": {
      "provenance": []
    },
    "kernelspec": {
      "name": "python3",
      "display_name": "Python 3"
    },
    "language_info": {
      "name": "python"
    }
  },
  "cells": [
    {
      "cell_type": "markdown",
      "source": [
        "THEORY QUESTIONS\n"
      ],
      "metadata": {
        "id": "isxlOdQ05baH"
      }
    },
    {
      "cell_type": "markdown",
      "source": [
        "1.What is a RESTful API?\n",
        "\n",
        "ANS-A RESTful API (Representational State Transfer) is an API that follows REST principles, using standard HTTP methods (GET, POST, PUT, DELETE) to access and manipulate resources identified by URLs. It’s stateless, scalable, and uses JSON/XML for data exchange.\n",
        "\n",
        "2.Explain the concept of API specification?\n",
        "\n",
        "ANS-An API specification is a detailed blueprint of how an API works. It includes:\n",
        "\n",
        "Endpoints and their URLs\n",
        "\n",
        "HTTP methods used\n",
        "\n",
        "Request/response formats\n",
        "\n",
        "Authentication methods\n",
        "\n",
        "Often written using tools like OpenAPI/Swagger\n",
        "\n",
        "3.What is Flask, and why is it popular for building APIs?\n",
        "\n",
        "ANS-Flask is a lightweight Python web framework used to build web applications and APIs. It’s popular because:\n",
        "\n",
        "It’s simple and easy to learn\n",
        "\n",
        "Highly customizable and modular\n",
        "\n",
        "Supports extensions (like Flask-SQLAlchemy, Flask-RESTful)\n",
        "\n",
        "Ideal for small to medium-sized APIs\n",
        "\n",
        "4.What is routing in Flask?\n",
        "\n",
        "ANS- Routing in Flask maps a URL path to a specific function (called a view function) that gets executed when the route is accessed.\n"
      ],
      "metadata": {
        "id": "RK8ngeAR5fUG"
      }
    },
    {
      "cell_type": "code",
      "metadata": {
        "id": "8ba0199c"
      },
      "source": [
        "from flask import Flask\n",
        "\n",
        "app = Flask(__name__)\n",
        "\n",
        "#example\n",
        "@app.route('/hello')\n",
        "def hello():\n",
        "    return \"Hello, world!\""
      ],
      "execution_count": 2,
      "outputs": []
    },
    {
      "cell_type": "markdown",
      "source": [
        "5.How do you create a simple Flask application?\n",
        "\n",
        "\n"
      ],
      "metadata": {
        "id": "Y-z6JXvI79kK"
      }
    },
    {
      "cell_type": "code",
      "source": [
        "from flask import Flask\n",
        "\n",
        "app = Flask(__name__)\n",
        "\n",
        "@app.route('/')\n",
        "def home():\n",
        "    return 'Welcome to my API'\n",
        "\n",
        "if __name__ == '__main__':\n",
        "    app.run(debug=True)\n"
      ],
      "metadata": {
        "colab": {
          "base_uri": "https://localhost:8080/"
        },
        "id": "5wDuk4xp8GfC",
        "outputId": "f51fa339-c2b6-4742-f0a5-c5b58c7f3cfc"
      },
      "execution_count": 3,
      "outputs": [
        {
          "output_type": "stream",
          "name": "stdout",
          "text": [
            " * Serving Flask app '__main__'\n",
            " * Debug mode: on\n"
          ]
        },
        {
          "output_type": "stream",
          "name": "stderr",
          "text": [
            "INFO:werkzeug:\u001b[31m\u001b[1mWARNING: This is a development server. Do not use it in a production deployment. Use a production WSGI server instead.\u001b[0m\n",
            " * Running on http://127.0.0.1:5000\n",
            "INFO:werkzeug:\u001b[33mPress CTRL+C to quit\u001b[0m\n",
            "INFO:werkzeug: * Restarting with watchdog (inotify)\n"
          ]
        }
      ]
    },
    {
      "cell_type": "markdown",
      "source": [
        "6.What are HTTP methods used in RESTful APIs?\n",
        "\n",
        "ans- Common HTTP methods:\n",
        "\n",
        "GET: Retrieve data\n",
        "\n",
        "POST: Create new data\n",
        "\n",
        "PUT: Update existing data\n",
        "\n",
        "DELETE: Remove data\n",
        "\n",
        "PATCH: Partial update\n"
      ],
      "metadata": {
        "id": "EM0V01BP8NLq"
      }
    },
    {
      "cell_type": "markdown",
      "source": [
        "7.What is the purpose of the @app.route() decorator in Flask?\n",
        "\n",
        "ans- @app.route() connects a URL path to a function. It tells Flask what function to run when a specific route is accessed.\n",
        "\n",
        "8.What is the difference between GET and POST HTTP methods4\n",
        "\n",
        "ans - GET:\n",
        "\n",
        "Retrieves data from the server\n",
        "\n",
        "Parameters sent in the URL\n",
        "\n",
        "Idempotent (doesn’t change server data)\n",
        "\n",
        "POST:\n",
        "\n",
        "Sends data to the server (e.g., form submission)\n",
        "\n",
        "Data sent in the request body\n",
        "\n",
        "Not idempotent (can create or change data)\n"
      ],
      "metadata": {
        "id": "JB_Om2J_8YSW"
      }
    },
    {
      "cell_type": "markdown",
      "source": [
        "9.How do you handle errors in Flask APIs?\n",
        "\n",
        "\n"
      ],
      "metadata": {
        "id": "KkpC_MFy8rtg"
      }
    },
    {
      "cell_type": "code",
      "source": [
        "@app.errorhandler(404)\n",
        "def not_found(error):\n",
        "    return {\"error\": \"Not found\"}, 404\n",
        "\n",
        "@app.errorhandler(500)\n",
        "def internal_error(error):\n",
        "    return {\"error\": \"Server error\"}, 500\n"
      ],
      "metadata": {
        "id": "ODit3tIv8wvg"
      },
      "execution_count": 4,
      "outputs": []
    },
    {
      "cell_type": "markdown",
      "source": [
        "10.How do you connect Flask to a SQL database?\n",
        "\n",
        "\n"
      ],
      "metadata": {
        "id": "SUXYShOU81ff"
      }
    },
    {
      "cell_type": "code",
      "metadata": {
        "colab": {
          "base_uri": "https://localhost:8080/"
        },
        "id": "1873d31b",
        "outputId": "1aabee13-930e-4e23-c495-c195d9ee4754"
      },
      "source": [
        "%pip install Flask-SQLAlchemy"
      ],
      "execution_count": 6,
      "outputs": [
        {
          "output_type": "stream",
          "name": "stdout",
          "text": [
            "Collecting Flask-SQLAlchemy\n",
            "  Downloading flask_sqlalchemy-3.1.1-py3-none-any.whl.metadata (3.4 kB)\n",
            "Requirement already satisfied: flask>=2.2.5 in /usr/local/lib/python3.12/dist-packages (from Flask-SQLAlchemy) (3.1.2)\n",
            "Requirement already satisfied: sqlalchemy>=2.0.16 in /usr/local/lib/python3.12/dist-packages (from Flask-SQLAlchemy) (2.0.43)\n",
            "Requirement already satisfied: blinker>=1.9.0 in /usr/local/lib/python3.12/dist-packages (from flask>=2.2.5->Flask-SQLAlchemy) (1.9.0)\n",
            "Requirement already satisfied: click>=8.1.3 in /usr/local/lib/python3.12/dist-packages (from flask>=2.2.5->Flask-SQLAlchemy) (8.2.1)\n",
            "Requirement already satisfied: itsdangerous>=2.2.0 in /usr/local/lib/python3.12/dist-packages (from flask>=2.2.5->Flask-SQLAlchemy) (2.2.0)\n",
            "Requirement already satisfied: jinja2>=3.1.2 in /usr/local/lib/python3.12/dist-packages (from flask>=2.2.5->Flask-SQLAlchemy) (3.1.6)\n",
            "Requirement already satisfied: markupsafe>=2.1.1 in /usr/local/lib/python3.12/dist-packages (from flask>=2.2.5->Flask-SQLAlchemy) (3.0.2)\n",
            "Requirement already satisfied: werkzeug>=3.1.0 in /usr/local/lib/python3.12/dist-packages (from flask>=2.2.5->Flask-SQLAlchemy) (3.1.3)\n",
            "Requirement already satisfied: greenlet>=1 in /usr/local/lib/python3.12/dist-packages (from sqlalchemy>=2.0.16->Flask-SQLAlchemy) (3.2.4)\n",
            "Requirement already satisfied: typing-extensions>=4.6.0 in /usr/local/lib/python3.12/dist-packages (from sqlalchemy>=2.0.16->Flask-SQLAlchemy) (4.15.0)\n",
            "Downloading flask_sqlalchemy-3.1.1-py3-none-any.whl (25 kB)\n",
            "Installing collected packages: Flask-SQLAlchemy\n",
            "Successfully installed Flask-SQLAlchemy-3.1.1\n"
          ]
        }
      ]
    },
    {
      "cell_type": "code",
      "source": [
        "from flask_sqlalchemy import SQLAlchemy\n",
        "\n",
        "app.config['SQLALCHEMY_DATABASE_URI'] = 'sqlite:///data.db'\n",
        "db = SQLAlchemy(app)\n"
      ],
      "metadata": {
        "id": "I982K9gD9FkY"
      },
      "execution_count": 7,
      "outputs": []
    },
    {
      "cell_type": "markdown",
      "source": [
        "11.What is the role of Flask-SQLAlchemy?\n",
        "\n",
        "ans- Flask-SQLAlchemy is an ORM (Object-Relational Mapper) extension for Flask. It simplifies database operations by allowing you to interact with the database using Python classes instead of SQL.\n"
      ],
      "metadata": {
        "id": "74HqUDpG9LH1"
      }
    },
    {
      "cell_type": "markdown",
      "source": [
        "12.What are Flask blueprints, and how are they useful?\n",
        "\n",
        "ans- Blueprints allow you to organize your Flask app into reusable modules (e.g., auth, blog, api). They help with:\n",
        "\n",
        "Better code organization\n",
        "\n",
        "Easier scalability\n",
        "\n",
        "Separation of concerns\n"
      ],
      "metadata": {
        "id": "nnIPGxnq9Rw0"
      }
    },
    {
      "cell_type": "code",
      "source": [
        "from flask import Blueprint\n",
        "\n",
        "auth = Blueprint('auth', __name__)\n",
        "\n",
        "@auth.route('/login')\n",
        "def login():\n",
        "    return \"Login page\"\n"
      ],
      "metadata": {
        "id": "eXplsic89ZVL"
      },
      "execution_count": 8,
      "outputs": []
    },
    {
      "cell_type": "markdown",
      "source": [
        "13.What is the purpose of Flask's request object?\n",
        "\n",
        "ans- The request object provides access to incoming HTTP request data:\n",
        "\n",
        "Form data (request.form)\n",
        "\n",
        "JSON data (request.get_json())\n",
        "\n",
        "Query parameters (request.args)\n",
        "\n",
        "Headers, files, method, etc."
      ],
      "metadata": {
        "id": "sBE1AH0G9bft"
      }
    },
    {
      "cell_type": "markdown",
      "source": [
        "14. How do you create a RESTful API endpoint using Flask?\n",
        "\n"
      ],
      "metadata": {
        "id": "0QOMToUB9lYm"
      }
    },
    {
      "cell_type": "code",
      "source": [
        "from flask import Flask, jsonify, request\n",
        "\n",
        "app = Flask(__name__)\n",
        "\n",
        "@app.route('/api/items', methods=['POST'])\n",
        "def create_item():\n",
        "    data = request.get_json()\n",
        "    return jsonify({\"item\": data}), 201\n"
      ],
      "metadata": {
        "id": "O4RjhiEq9sf_"
      },
      "execution_count": 9,
      "outputs": []
    },
    {
      "cell_type": "markdown",
      "source": [
        "15. What is the purpose of Flask's jsonify() function?\n",
        "\n",
        "ans- jsonify() turns Python dictionaries/lists into proper JSON responses with the right content type (application/json) and formatting.\n",
        "\n",
        "16. Explain Flask’s url_for() function\n",
        "\n",
        "ans- url_for() dynamically generates URLs for a given view function name. Useful for avoiding hardcoding URLs."
      ],
      "metadata": {
        "id": "KX-xu4ZO9u8l"
      }
    },
    {
      "cell_type": "code",
      "metadata": {
        "colab": {
          "base_uri": "https://localhost:8080/"
        },
        "id": "39c9da17",
        "outputId": "fcba9bbe-bdfd-46ca-8311-b812dad220a2"
      },
      "source": [
        "from flask import Flask, url_for\n",
        "\n",
        "app = Flask(__name__)\n",
        "\n",
        "@app.route('/')\n",
        "def home():\n",
        "    return 'Welcome to my API'\n",
        "\n",
        "with app.app_context():\n",
        "  #example\n",
        "  print(url_for('home'))"
      ],
      "execution_count": 13,
      "outputs": [
        {
          "output_type": "stream",
          "name": "stdout",
          "text": [
            "http://localhost:5000/\n"
          ]
        }
      ]
    },
    {
      "cell_type": "markdown",
      "source": [
        "17.How does Flask handle static files (CSS, JavaScript, etc.)?\n",
        "\n",
        "ans - Flask automatically serves static files from the static/ directory by default.\n",
        "\n",
        "Place files like CSS, JS, images in the static/ folder.\n",
        "\n",
        "Access them in HTML using:"
      ],
      "metadata": {
        "id": "pqBxWUry9u7m"
      }
    },
    {
      "cell_type": "code",
      "source": [
        "<link rel=\"stylesheet\" href=\"{{ url_for('static', filename='styles.css') }}\">\n"
      ],
      "metadata": {
        "colab": {
          "base_uri": "https://localhost:8080/",
          "height": 106
        },
        "id": "sFj4PuKv-bsD",
        "outputId": "44a4b580-cfd7-4fd9-a1c2-049879505427"
      },
      "execution_count": 14,
      "outputs": [
        {
          "output_type": "error",
          "ename": "SyntaxError",
          "evalue": "invalid syntax (ipython-input-3140948093.py, line 1)",
          "traceback": [
            "\u001b[0;36m  File \u001b[0;32m\"/tmp/ipython-input-3140948093.py\"\u001b[0;36m, line \u001b[0;32m1\u001b[0m\n\u001b[0;31m    <link rel=\"stylesheet\" href=\"{{ url_for('static', filename='styles.css') }}\">\u001b[0m\n\u001b[0m    ^\u001b[0m\n\u001b[0;31mSyntaxError\u001b[0m\u001b[0;31m:\u001b[0m invalid syntax\n"
          ]
        }
      ]
    },
    {
      "cell_type": "markdown",
      "source": [
        "18. What is an API specification, and how does it help in building a Flask API?\n",
        "\n",
        "ans- An API specification is a structured document describing how an API works. It defines:\n",
        "\n",
        "Endpoints and their paths\n",
        "\n",
        "Methods (GET, POST, etc.)\n",
        "\n",
        "Input/output schemas\n",
        "\n",
        "Authentication rules\n",
        "\n",
        "Error formats\n",
        "\n",
        "Benefits in Flask development:\n",
        "\n",
        "Acts as a contract between frontend and backend\n",
        "\n",
        "Helps generate documentation (e.g., Swagger UI)\n",
        "\n",
        "Enables validation and testing tools\n",
        "\n",
        "Supports automation (client SDK generation)"
      ],
      "metadata": {
        "id": "at86_J9v-jgS"
      }
    },
    {
      "cell_type": "markdown",
      "source": [
        "19.What are HTTP status codes, and why are they important in a Flask API?\n",
        "\n",
        "ans- HTTP status codes indicate the result of an HTTP request. Common examples:\n",
        "\n",
        "200 OK: Success\n",
        "\n",
        "201 Created: Resource created\n",
        "\n",
        "400 Bad Request: Invalid input\n",
        "\n",
        "401 Unauthorized: Auth required\n",
        "\n",
        "404 Not Found: Resource doesn’t exist\n",
        "\n",
        "500 Internal Server Error: Server-side issue\n",
        "\n",
        "Why important?\n",
        "\n",
        "Provide context to API clients\n",
        "\n",
        "Help debug errors\n",
        "\n",
        "Follow REST standards"
      ],
      "metadata": {
        "id": "8L8KQfRv-v8Q"
      }
    },
    {
      "cell_type": "markdown",
      "source": [
        "20.How do you handle POST requests in Flask?\n"
      ],
      "metadata": {
        "id": "LRHkhTnx-7DV"
      }
    },
    {
      "cell_type": "code",
      "source": [
        "from flask import request\n",
        "\n",
        "@app.route('/submit', methods=['POST'])\n",
        "def submit():\n",
        "    data = request.get_json()  # or request.form for form data\n",
        "    return jsonify({\"received\": data}), 200\n"
      ],
      "metadata": {
        "id": "JojLQ-NZ_ALO"
      },
      "execution_count": 15,
      "outputs": []
    },
    {
      "cell_type": "markdown",
      "source": [
        "21. How would you secure a Flask API?\n",
        "\n",
        "ans- Key strategies:\n",
        "\n",
        "Authentication:\n",
        "\n",
        "Token-based (e.g., JWT)\n",
        "\n",
        "API keys\n",
        "\n",
        "OAuth2\n",
        "\n",
        "Authorization:\n",
        "\n",
        "Role-based access control\n",
        "\n",
        "Input validation:\n",
        "\n",
        "Use libraries like marshmallow or pydantic\n",
        "\n",
        "HTTPS:\n",
        "\n",
        "Always use HTTPS in production\n",
        "\n",
        "Rate limiting:\n",
        "\n",
        "Prevent abuse using tools like Flask-Limiter\n",
        "\n",
        "CORS handling:\n",
        "\n",
        "Use Flask-CORS to configure cross-origin policies\n",
        "\n",
        "Sanitizing data:\n",
        "\n",
        "Prevent SQL injection, XSS, etc."
      ],
      "metadata": {
        "id": "6N8X9049_COJ"
      }
    },
    {
      "cell_type": "markdown",
      "source": [
        "22.What is the significance of the Flask-RESTful extension?\n",
        "\n",
        "ans - Flask-RESTful is an extension that simplifies building REST APIs in Flask.\n",
        "\n",
        "Benefits:\n",
        "\n",
        "Class-based views for each resource\n",
        "\n",
        "Automatic input parsing and request handling\n",
        "\n",
        "Better organization and scalability\n",
        "\n",
        "Cleaner, DRY code"
      ],
      "metadata": {
        "id": "FSBjfJKv_MgF"
      }
    },
    {
      "cell_type": "code",
      "metadata": {
        "colab": {
          "base_uri": "https://localhost:8080/"
        },
        "id": "518c8aca",
        "outputId": "51ed5664-49af-460c-c777-0c5afa2902ac"
      },
      "source": [
        "%pip install Flask-RESTful"
      ],
      "execution_count": 17,
      "outputs": [
        {
          "output_type": "stream",
          "name": "stdout",
          "text": [
            "Collecting Flask-RESTful\n",
            "  Downloading Flask_RESTful-0.3.10-py2.py3-none-any.whl.metadata (1.0 kB)\n",
            "Collecting aniso8601>=0.82 (from Flask-RESTful)\n",
            "  Downloading aniso8601-10.0.1-py2.py3-none-any.whl.metadata (23 kB)\n",
            "Requirement already satisfied: Flask>=0.8 in /usr/local/lib/python3.12/dist-packages (from Flask-RESTful) (3.1.2)\n",
            "Requirement already satisfied: six>=1.3.0 in /usr/local/lib/python3.12/dist-packages (from Flask-RESTful) (1.17.0)\n",
            "Requirement already satisfied: pytz in /usr/local/lib/python3.12/dist-packages (from Flask-RESTful) (2025.2)\n",
            "Requirement already satisfied: blinker>=1.9.0 in /usr/local/lib/python3.12/dist-packages (from Flask>=0.8->Flask-RESTful) (1.9.0)\n",
            "Requirement already satisfied: click>=8.1.3 in /usr/local/lib/python3.12/dist-packages (from Flask>=0.8->Flask-RESTful) (8.2.1)\n",
            "Requirement already satisfied: itsdangerous>=2.2.0 in /usr/local/lib/python3.12/dist-packages (from Flask>=0.8->Flask-RESTful) (2.2.0)\n",
            "Requirement already satisfied: jinja2>=3.1.2 in /usr/local/lib/python3.12/dist-packages (from Flask>=0.8->Flask-RESTful) (3.1.6)\n",
            "Requirement already satisfied: markupsafe>=2.1.1 in /usr/local/lib/python3.12/dist-packages (from Flask>=0.8->Flask-RESTful) (3.0.2)\n",
            "Requirement already satisfied: werkzeug>=3.1.0 in /usr/local/lib/python3.12/dist-packages (from Flask>=0.8->Flask-RESTful) (3.1.3)\n",
            "Downloading Flask_RESTful-0.3.10-py2.py3-none-any.whl (26 kB)\n",
            "Downloading aniso8601-10.0.1-py2.py3-none-any.whl (52 kB)\n",
            "\u001b[2K   \u001b[90m━━━━━━━━━━━━━━━━━━━━━━━━━━━━━━━━━━━━━━━━\u001b[0m \u001b[32m52.8/52.8 kB\u001b[0m \u001b[31m3.9 MB/s\u001b[0m eta \u001b[36m0:00:00\u001b[0m\n",
            "\u001b[?25hInstalling collected packages: aniso8601, Flask-RESTful\n",
            "Successfully installed Flask-RESTful-0.3.10 aniso8601-10.0.1\n"
          ]
        }
      ]
    },
    {
      "cell_type": "code",
      "source": [
        "from flask_restful import Resource, Api\n",
        "from flask import Flask\n",
        "\n",
        "app = Flask(__name__)\n",
        "api = Api(app)\n",
        "\n",
        "class Item(Resource):\n",
        "    def get(self, id):\n",
        "        return {\"id\": id}\n",
        "\n",
        "api.add_resource(Item, '/item/<int:id>')"
      ],
      "metadata": {
        "id": "LNicZYJH_bPN"
      },
      "execution_count": 19,
      "outputs": []
    },
    {
      "cell_type": "markdown",
      "source": [
        "23. What is the role of Flask’s session object?\n",
        "\n",
        "ans- The session object stores user-specific data (like login status) across requests.\n",
        "\n",
        "Stored on the client (in a secure cookie)\n",
        "\n",
        "Signed with a secret key (app.secret_key)\n",
        "\n",
        "Useful for:\n",
        "\n",
        "Authenticated sessions\n",
        "\n",
        "Tracking user data\n",
        "\n",
        "Flash messaging"
      ],
      "metadata": {
        "id": "WBVFzN6J_gi3"
      }
    },
    {
      "cell_type": "code",
      "source": [
        "#example\n",
        "from flask import session\n",
        "\n",
        "@app.route('/login')\n",
        "def login():\n",
        "    session['user'] = 'alice'\n",
        "    return 'Logged in'\n",
        "\n",
        "@app.route('/logout')\n",
        "def logout():\n",
        "    session.pop('user', None)\n",
        "    return 'Logged out'\n"
      ],
      "metadata": {
        "id": "YYTxRfAj_qhq"
      },
      "execution_count": 20,
      "outputs": []
    },
    {
      "cell_type": "markdown",
      "source": [
        "PRACTICAL QUESTIONS\n"
      ],
      "metadata": {
        "id": "y4PKtkPO_uPu"
      }
    },
    {
      "cell_type": "code",
      "source": [
        "#How do you create a basic Flask application?\n",
        "\n",
        "from flask import Flask\n",
        "\n",
        "app = Flask(__name__)\n",
        "\n",
        "@app.route('/')\n",
        "def home():\n",
        "    return \"Hello, Flask!\"\n",
        "\n",
        "if __name__ == '__main__':\n",
        "    app.run(debug=True)\n",
        "\n"
      ],
      "metadata": {
        "colab": {
          "base_uri": "https://localhost:8080/"
        },
        "id": "z2WdokAA_zqE",
        "outputId": "e84881f2-baa4-442d-f346-265ed1d08056"
      },
      "execution_count": 21,
      "outputs": [
        {
          "output_type": "stream",
          "name": "stdout",
          "text": [
            " * Serving Flask app '__main__'\n",
            " * Debug mode: on\n"
          ]
        },
        {
          "output_type": "stream",
          "name": "stderr",
          "text": [
            "INFO:werkzeug:\u001b[31m\u001b[1mWARNING: This is a development server. Do not use it in a production deployment. Use a production WSGI server instead.\u001b[0m\n",
            " * Running on http://127.0.0.1:5000\n",
            "INFO:werkzeug:\u001b[33mPress CTRL+C to quit\u001b[0m\n",
            "INFO:werkzeug: * Restarting with watchdog (inotify)\n"
          ]
        }
      ]
    },
    {
      "cell_type": "markdown",
      "metadata": {
        "id": "fd98701b"
      },
      "source": [
        "In a Flask template file (e.g., `templates/index.html`), you would use this snippet to link to static files:"
      ]
    },
    {
      "cell_type": "code",
      "metadata": {
        "id": "59f96152"
      },
      "source": [
        "# Example of how you might use url_for in a Flask route to render a template\n",
        "from flask import render_template\n",
        "\n",
        "# Assuming you have a template file named index.html in a 'templates' folder\n",
        "# @app.route('/')\n",
        "# def index():\n",
        "#     return render_template('index.html')"
      ],
      "execution_count": 23,
      "outputs": []
    },
    {
      "cell_type": "code",
      "source": [
        "#How do you serve static files like images or CSS in Flask?\n",
        "\n",
        "<link rel=\"stylesheet\" href=\"{{ url_for('static', filename='styles.css') }}\">\n",
        "<img src=\"{{ url_for('static', filename='logo.png') }}\">\n",
        "\n"
      ],
      "metadata": {
        "colab": {
          "base_uri": "https://localhost:8080/",
          "height": 106
        },
        "id": "StIIgJ8JAmoA",
        "outputId": "f024bdcc-502a-48c1-fe07-967208b67f9c"
      },
      "execution_count": 25,
      "outputs": [
        {
          "output_type": "error",
          "ename": "SyntaxError",
          "evalue": "invalid syntax (ipython-input-594801534.py, line 3)",
          "traceback": [
            "\u001b[0;36m  File \u001b[0;32m\"/tmp/ipython-input-594801534.py\"\u001b[0;36m, line \u001b[0;32m3\u001b[0m\n\u001b[0;31m    <link rel=\"stylesheet\" href=\"{{ url_for('static', filename='styles.css') }}\">\u001b[0m\n\u001b[0m    ^\u001b[0m\n\u001b[0;31mSyntaxError\u001b[0m\u001b[0;31m:\u001b[0m invalid syntax\n"
          ]
        }
      ]
    },
    {
      "cell_type": "code",
      "source": [
        "#How do you define different routes with different HTTP methods in Flask?\n",
        "\n",
        "@app.route('/submit', methods=['GET', 'POST'])\n",
        "def submit():\n",
        "    if request.method == 'POST':\n",
        "        return \"Form submitted!\"\n",
        "    return \"Submit form page\"\n"
      ],
      "metadata": {
        "id": "84lDHRsmAvh1"
      },
      "execution_count": 26,
      "outputs": []
    },
    {
      "cell_type": "code",
      "source": [
        "#How do you render HTML templates in Flask?\n",
        "\n",
        "from flask import render_template\n",
        "\n",
        "@app.route('/index') # Changed the URL rule to '/index'\n",
        "def home():\n",
        "    return render_template('index.html')"
      ],
      "metadata": {
        "colab": {
          "base_uri": "https://localhost:8080/",
          "height": 356
        },
        "id": "fnjcwwXTA1cP",
        "outputId": "e40862af-5f5f-42a2-84d9-70986c2e5f4c"
      },
      "execution_count": 28,
      "outputs": [
        {
          "output_type": "error",
          "ename": "AssertionError",
          "evalue": "View function mapping is overwriting an existing endpoint function: home",
          "traceback": [
            "\u001b[0;31m---------------------------------------------------------------------------\u001b[0m",
            "\u001b[0;31mAssertionError\u001b[0m                            Traceback (most recent call last)",
            "\u001b[0;32m/tmp/ipython-input-2131363176.py\u001b[0m in \u001b[0;36m<cell line: 0>\u001b[0;34m()\u001b[0m\n\u001b[1;32m      3\u001b[0m \u001b[0;32mfrom\u001b[0m \u001b[0mflask\u001b[0m \u001b[0;32mimport\u001b[0m \u001b[0mrender_template\u001b[0m\u001b[0;34m\u001b[0m\u001b[0;34m\u001b[0m\u001b[0m\n\u001b[1;32m      4\u001b[0m \u001b[0;34m\u001b[0m\u001b[0m\n\u001b[0;32m----> 5\u001b[0;31m \u001b[0;34m@\u001b[0m\u001b[0mapp\u001b[0m\u001b[0;34m.\u001b[0m\u001b[0mroute\u001b[0m\u001b[0;34m(\u001b[0m\u001b[0;34m'/index'\u001b[0m\u001b[0;34m)\u001b[0m \u001b[0;31m# Changed the URL rule to '/index'\u001b[0m\u001b[0;34m\u001b[0m\u001b[0;34m\u001b[0m\u001b[0m\n\u001b[0m\u001b[1;32m      6\u001b[0m \u001b[0;32mdef\u001b[0m \u001b[0mhome\u001b[0m\u001b[0;34m(\u001b[0m\u001b[0;34m)\u001b[0m\u001b[0;34m:\u001b[0m\u001b[0;34m\u001b[0m\u001b[0;34m\u001b[0m\u001b[0m\n\u001b[1;32m      7\u001b[0m     \u001b[0;32mreturn\u001b[0m \u001b[0mrender_template\u001b[0m\u001b[0;34m(\u001b[0m\u001b[0;34m'index.html'\u001b[0m\u001b[0;34m)\u001b[0m\u001b[0;34m\u001b[0m\u001b[0;34m\u001b[0m\u001b[0m\n",
            "\u001b[0;32m/usr/local/lib/python3.12/dist-packages/flask/sansio/scaffold.py\u001b[0m in \u001b[0;36mdecorator\u001b[0;34m(f)\u001b[0m\n\u001b[1;32m    360\u001b[0m         \u001b[0;32mdef\u001b[0m \u001b[0mdecorator\u001b[0m\u001b[0;34m(\u001b[0m\u001b[0mf\u001b[0m\u001b[0;34m:\u001b[0m \u001b[0mT_route\u001b[0m\u001b[0;34m)\u001b[0m \u001b[0;34m->\u001b[0m \u001b[0mT_route\u001b[0m\u001b[0;34m:\u001b[0m\u001b[0;34m\u001b[0m\u001b[0;34m\u001b[0m\u001b[0m\n\u001b[1;32m    361\u001b[0m             \u001b[0mendpoint\u001b[0m \u001b[0;34m=\u001b[0m \u001b[0moptions\u001b[0m\u001b[0;34m.\u001b[0m\u001b[0mpop\u001b[0m\u001b[0;34m(\u001b[0m\u001b[0;34m\"endpoint\"\u001b[0m\u001b[0;34m,\u001b[0m \u001b[0;32mNone\u001b[0m\u001b[0;34m)\u001b[0m\u001b[0;34m\u001b[0m\u001b[0;34m\u001b[0m\u001b[0m\n\u001b[0;32m--> 362\u001b[0;31m             \u001b[0mself\u001b[0m\u001b[0;34m.\u001b[0m\u001b[0madd_url_rule\u001b[0m\u001b[0;34m(\u001b[0m\u001b[0mrule\u001b[0m\u001b[0;34m,\u001b[0m \u001b[0mendpoint\u001b[0m\u001b[0;34m,\u001b[0m \u001b[0mf\u001b[0m\u001b[0;34m,\u001b[0m \u001b[0;34m**\u001b[0m\u001b[0moptions\u001b[0m\u001b[0;34m)\u001b[0m\u001b[0;34m\u001b[0m\u001b[0;34m\u001b[0m\u001b[0m\n\u001b[0m\u001b[1;32m    363\u001b[0m             \u001b[0;32mreturn\u001b[0m \u001b[0mf\u001b[0m\u001b[0;34m\u001b[0m\u001b[0;34m\u001b[0m\u001b[0m\n\u001b[1;32m    364\u001b[0m \u001b[0;34m\u001b[0m\u001b[0m\n",
            "\u001b[0;32m/usr/local/lib/python3.12/dist-packages/flask/sansio/scaffold.py\u001b[0m in \u001b[0;36mwrapper_func\u001b[0;34m(self, *args, **kwargs)\u001b[0m\n\u001b[1;32m     45\u001b[0m     \u001b[0;32mdef\u001b[0m \u001b[0mwrapper_func\u001b[0m\u001b[0;34m(\u001b[0m\u001b[0mself\u001b[0m\u001b[0;34m:\u001b[0m \u001b[0mScaffold\u001b[0m\u001b[0;34m,\u001b[0m \u001b[0;34m*\u001b[0m\u001b[0margs\u001b[0m\u001b[0;34m:\u001b[0m \u001b[0mt\u001b[0m\u001b[0;34m.\u001b[0m\u001b[0mAny\u001b[0m\u001b[0;34m,\u001b[0m \u001b[0;34m**\u001b[0m\u001b[0mkwargs\u001b[0m\u001b[0;34m:\u001b[0m \u001b[0mt\u001b[0m\u001b[0;34m.\u001b[0m\u001b[0mAny\u001b[0m\u001b[0;34m)\u001b[0m \u001b[0;34m->\u001b[0m \u001b[0mt\u001b[0m\u001b[0;34m.\u001b[0m\u001b[0mAny\u001b[0m\u001b[0;34m:\u001b[0m\u001b[0;34m\u001b[0m\u001b[0;34m\u001b[0m\u001b[0m\n\u001b[1;32m     46\u001b[0m         \u001b[0mself\u001b[0m\u001b[0;34m.\u001b[0m\u001b[0m_check_setup_finished\u001b[0m\u001b[0;34m(\u001b[0m\u001b[0mf_name\u001b[0m\u001b[0;34m)\u001b[0m\u001b[0;34m\u001b[0m\u001b[0;34m\u001b[0m\u001b[0m\n\u001b[0;32m---> 47\u001b[0;31m         \u001b[0;32mreturn\u001b[0m \u001b[0mf\u001b[0m\u001b[0;34m(\u001b[0m\u001b[0mself\u001b[0m\u001b[0;34m,\u001b[0m \u001b[0;34m*\u001b[0m\u001b[0margs\u001b[0m\u001b[0;34m,\u001b[0m \u001b[0;34m**\u001b[0m\u001b[0mkwargs\u001b[0m\u001b[0;34m)\u001b[0m\u001b[0;34m\u001b[0m\u001b[0;34m\u001b[0m\u001b[0m\n\u001b[0m\u001b[1;32m     48\u001b[0m \u001b[0;34m\u001b[0m\u001b[0m\n\u001b[1;32m     49\u001b[0m     \u001b[0;32mreturn\u001b[0m \u001b[0mt\u001b[0m\u001b[0;34m.\u001b[0m\u001b[0mcast\u001b[0m\u001b[0;34m(\u001b[0m\u001b[0mF\u001b[0m\u001b[0;34m,\u001b[0m \u001b[0mupdate_wrapper\u001b[0m\u001b[0;34m(\u001b[0m\u001b[0mwrapper_func\u001b[0m\u001b[0;34m,\u001b[0m \u001b[0mf\u001b[0m\u001b[0;34m)\u001b[0m\u001b[0;34m)\u001b[0m\u001b[0;34m\u001b[0m\u001b[0;34m\u001b[0m\u001b[0m\n",
            "\u001b[0;32m/usr/local/lib/python3.12/dist-packages/flask/sansio/app.py\u001b[0m in \u001b[0;36madd_url_rule\u001b[0;34m(self, rule, endpoint, view_func, provide_automatic_options, **options)\u001b[0m\n\u001b[1;32m    655\u001b[0m             \u001b[0mold_func\u001b[0m \u001b[0;34m=\u001b[0m \u001b[0mself\u001b[0m\u001b[0;34m.\u001b[0m\u001b[0mview_functions\u001b[0m\u001b[0;34m.\u001b[0m\u001b[0mget\u001b[0m\u001b[0;34m(\u001b[0m\u001b[0mendpoint\u001b[0m\u001b[0;34m)\u001b[0m\u001b[0;34m\u001b[0m\u001b[0;34m\u001b[0m\u001b[0m\n\u001b[1;32m    656\u001b[0m             \u001b[0;32mif\u001b[0m \u001b[0mold_func\u001b[0m \u001b[0;32mis\u001b[0m \u001b[0;32mnot\u001b[0m \u001b[0;32mNone\u001b[0m \u001b[0;32mand\u001b[0m \u001b[0mold_func\u001b[0m \u001b[0;34m!=\u001b[0m \u001b[0mview_func\u001b[0m\u001b[0;34m:\u001b[0m\u001b[0;34m\u001b[0m\u001b[0;34m\u001b[0m\u001b[0m\n\u001b[0;32m--> 657\u001b[0;31m                 raise AssertionError(\n\u001b[0m\u001b[1;32m    658\u001b[0m                     \u001b[0;34m\"View function mapping is overwriting an existing\"\u001b[0m\u001b[0;34m\u001b[0m\u001b[0;34m\u001b[0m\u001b[0m\n\u001b[1;32m    659\u001b[0m                     \u001b[0;34mf\" endpoint function: {endpoint}\"\u001b[0m\u001b[0;34m\u001b[0m\u001b[0;34m\u001b[0m\u001b[0m\n",
            "\u001b[0;31mAssertionError\u001b[0m: View function mapping is overwriting an existing endpoint function: home"
          ]
        }
      ]
    },
    {
      "cell_type": "code",
      "source": [
        "#How can you generate URLs for routes in Flask using url_for?\n",
        "from flask import Flask, url_for\n",
        "\n",
        "app = Flask(__name__)\n",
        "app.config['SERVER_NAME'] = 'localhost:5000' # Configure SERVER_NAME\n",
        "\n",
        "@app.route('/profile')\n",
        "def profile():\n",
        "    return \"User profile\"\n",
        "\n",
        "with app.app_context():\n",
        "  #example\n",
        "  print(url_for('profile'))"
      ],
      "metadata": {
        "colab": {
          "base_uri": "https://localhost:8080/"
        },
        "id": "h2zkReOEBCZX",
        "outputId": "6fe1c641-a975-4456-c6ba-294fab7c1f91"
      },
      "execution_count": 31,
      "outputs": [
        {
          "output_type": "stream",
          "name": "stdout",
          "text": [
            "http://localhost:5000/profile\n"
          ]
        }
      ]
    },
    {
      "cell_type": "code",
      "source": [
        "#How do you handle forms in Flask?\n",
        "\n",
        "<!-- templates/form.html -->\n",
        "<form method=\"POST\" action=\"/submit\">\n",
        "    <input type=\"text\" name=\"username\">\n",
        "    <input type=\"submit\">\n",
        "</form>\n"
      ],
      "metadata": {
        "id": "dPgcBJY0BO9B"
      },
      "execution_count": null,
      "outputs": []
    },
    {
      "cell_type": "code",
      "source": [
        "from flask import request\n",
        "\n",
        "@app.route('/submit', methods=['POST'])\n",
        "def submit():\n",
        "    username = request.form['username']\n",
        "    return f\"Hello, {username}!\"\n"
      ],
      "metadata": {
        "id": "dsYsUk7gBaMZ"
      },
      "execution_count": null,
      "outputs": []
    },
    {
      "cell_type": "code",
      "source": [
        "#How can you validate form data in Flask?\n",
        "\n",
        "%pip install flask-wtf"
      ],
      "metadata": {
        "colab": {
          "base_uri": "https://localhost:8080/"
        },
        "id": "TIEyVRgTBcRD",
        "outputId": "5d226f9a-fe04-46a7-9ea6-e7e279c903c7"
      },
      "execution_count": 33,
      "outputs": [
        {
          "output_type": "stream",
          "name": "stdout",
          "text": [
            "Collecting flask-wtf\n",
            "  Downloading flask_wtf-1.2.2-py3-none-any.whl.metadata (3.4 kB)\n",
            "Requirement already satisfied: flask in /usr/local/lib/python3.12/dist-packages (from flask-wtf) (3.1.2)\n",
            "Requirement already satisfied: itsdangerous in /usr/local/lib/python3.12/dist-packages (from flask-wtf) (2.2.0)\n",
            "Collecting wtforms (from flask-wtf)\n",
            "  Downloading wtforms-3.2.1-py3-none-any.whl.metadata (5.3 kB)\n",
            "Requirement already satisfied: blinker>=1.9.0 in /usr/local/lib/python3.12/dist-packages (from flask->flask-wtf) (1.9.0)\n",
            "Requirement already satisfied: click>=8.1.3 in /usr/local/lib/python3.12/dist-packages (from flask->flask-wtf) (8.2.1)\n",
            "Requirement already satisfied: jinja2>=3.1.2 in /usr/local/lib/python3.12/dist-packages (from flask->flask-wtf) (3.1.6)\n",
            "Requirement already satisfied: markupsafe>=2.1.1 in /usr/local/lib/python3.12/dist-packages (from flask->flask-wtf) (3.0.2)\n",
            "Requirement already satisfied: werkzeug>=3.1.0 in /usr/local/lib/python3.12/dist-packages (from flask->flask-wtf) (3.1.3)\n",
            "Downloading flask_wtf-1.2.2-py3-none-any.whl (12 kB)\n",
            "Downloading wtforms-3.2.1-py3-none-any.whl (152 kB)\n",
            "\u001b[?25l   \u001b[90m━━━━━━━━━━━━━━━━━━━━━━━━━━━━━━━━━━━━━━━━\u001b[0m \u001b[32m0.0/152.5 kB\u001b[0m \u001b[31m?\u001b[0m eta \u001b[36m-:--:--\u001b[0m\r\u001b[2K   \u001b[90m━━━━━━━━━━━━━━━━━━━━━━━━━━━━━━━━━━━━━━━━\u001b[0m \u001b[32m152.5/152.5 kB\u001b[0m \u001b[31m9.5 MB/s\u001b[0m eta \u001b[36m0:00:00\u001b[0m\n",
            "\u001b[?25hInstalling collected packages: wtforms, flask-wtf\n",
            "Successfully installed flask-wtf-1.2.2 wtforms-3.2.1\n"
          ]
        }
      ]
    },
    {
      "cell_type": "code",
      "source": [
        "from flask_wtf import FlaskForm\n",
        "from wtforms import StringField, SubmitField\n",
        "from wtforms.validators import DataRequired\n",
        "\n",
        "class NameForm(FlaskForm):\n",
        "    name = StringField('Name', validators=[DataRequired()])\n",
        "    submit = SubmitField('Submit')\n"
      ],
      "metadata": {
        "id": "Hg2t60g9BnMr"
      },
      "execution_count": null,
      "outputs": []
    },
    {
      "cell_type": "code",
      "source": [
        "@app.route('/form', methods=['GET', 'POST'])\n",
        "def form():\n",
        "    form = NameForm()\n",
        "    if form.validate_on_submit():\n",
        "        return f\"Hello, {form.name.data}!\"\n",
        "    return render_template('form.html', form=form)\n"
      ],
      "metadata": {
        "id": "hIG1ugfGBsBR"
      },
      "execution_count": null,
      "outputs": []
    },
    {
      "cell_type": "code",
      "source": [
        "#How do you manage sessions in Flask?\n",
        "\n",
        "from flask import session\n",
        "\n",
        "app.secret_key = 'your_secret_key'\n",
        "\n",
        "@app.route('/login')\n",
        "def login():\n",
        "    session['user'] = 'admin'\n",
        "    return \"Logged in!\"\n",
        "\n",
        "@app.route('/logout')\n",
        "def logout():\n",
        "    session.pop('user', None)\n",
        "    return \"Logged out\"\n"
      ],
      "metadata": {
        "id": "cpAKsV3gBtcs"
      },
      "execution_count": null,
      "outputs": []
    },
    {
      "cell_type": "code",
      "source": [
        "#How do you redirect to a different route in Flask?\n",
        "\n",
        "from flask import redirect, url_for\n",
        "\n",
        "@app.route('/old')\n",
        "def old():\n",
        "    return redirect(url_for('new'))\n",
        "\n",
        "@app.route('/new')\n",
        "def new():\n",
        "    return \"You've been redirected!\"\n"
      ],
      "metadata": {
        "id": "Naq2j-FaB0cy"
      },
      "execution_count": null,
      "outputs": []
    },
    {
      "cell_type": "code",
      "source": [
        "#How do you handle errors in Flask (e.g., 404)?\n",
        "\n",
        "@app.errorhandler(404)\n",
        "def not_found(error):\n",
        "    return render_template('404.html'), 404\n"
      ],
      "metadata": {
        "id": "qaqGG8xcB4zw"
      },
      "execution_count": null,
      "outputs": []
    },
    {
      "cell_type": "code",
      "source": [
        "#How do you structure a Flask app using Blueprints?\n",
        "\n",
        "from flask import Blueprint\n",
        "\n",
        "auth_bp = Blueprint('auth', __name__)\n",
        "\n",
        "@auth_bp.route('/login')\n",
        "def login():\n",
        "    return \"Login page\"\n"
      ],
      "metadata": {
        "id": "o-DVINQKB8wH"
      },
      "execution_count": null,
      "outputs": []
    },
    {
      "cell_type": "code",
      "source": [
        "from flask import Flask\n",
        "from auth.routes import auth_bp\n",
        "\n",
        "app = Flask(__name__)\n",
        "app.register_blueprint(auth_bp, url_prefix='/auth')\n"
      ],
      "metadata": {
        "id": "vUFNvEosCA5b"
      },
      "execution_count": null,
      "outputs": []
    },
    {
      "cell_type": "code",
      "source": [
        "#How do you define a custom Jinja filter in Flask?\n",
        "\n",
        "@app.template_filter('reverse')\n",
        "def reverse_string(s):\n",
        "    return s[::-1]\n",
        "#In template:\n",
        "\n",
        "{{ 'hello' | reverse }}  <!-- Output: olleh -->"
      ],
      "metadata": {
        "id": "dYeTl9xVCCWa"
      },
      "execution_count": null,
      "outputs": []
    },
    {
      "cell_type": "code",
      "source": [
        "#How can you redirect with query parameters in Flask?\n",
        "\n",
        "from flask import Flask, redirect, url_for, request\n",
        "\n",
        "app = Flask(__name__)\n",
        "\n",
        "@app.route('/start')\n",
        "def start():\n",
        "    return redirect(url_for('greet', name='Alice', age=25))\n",
        "\n",
        "@app.route('/greet')\n",
        "def greet():\n",
        "    name = request.args.get('name')\n",
        "    age = request.args.get('age')\n",
        "    return f\"Hello, {name}! You are {age} years old.\"\n"
      ],
      "metadata": {
        "id": "41D54o1xCOaP"
      },
      "execution_count": null,
      "outputs": []
    },
    {
      "cell_type": "code",
      "source": [
        "#How do you return JSON responses in Flask?\n",
        "\n",
        "from flask import jsonify\n",
        "\n",
        "@app.route('/api/data')\n",
        "def get_data():\n",
        "    return jsonify({\n",
        "        'status': 'success',\n",
        "        'data': [1, 2, 3]\n",
        "    })\n",
        "#You can also return a status code:\n",
        "\n",
        "return jsonify(message=\"Created\"), 201"
      ],
      "metadata": {
        "id": "NajgZYySCZ8_"
      },
      "execution_count": null,
      "outputs": []
    },
    {
      "cell_type": "code",
      "source": [
        "#How do you capture URL parameters in Flask?\n",
        "\n",
        "@app.route('/user/<username>')\n",
        "def user_profile(username):\n",
        "    return f\"Welcome, {username}!\"\n",
        "@app.route('/post/<int:post_id>')\n",
        "def show_post(post_id):\n",
        "    return f\"Post ID: {post_id}\"\n"
      ],
      "metadata": {
        "id": "UfGeSg99Chbr"
      },
      "execution_count": null,
      "outputs": []
    }
  ]
}